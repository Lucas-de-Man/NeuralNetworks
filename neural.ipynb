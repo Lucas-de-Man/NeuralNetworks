{
  "nbformat": 4,
  "nbformat_minor": 0,
  "metadata": {
    "colab": {
      "provenance": [],
      "include_colab_link": true
    },
    "kernelspec": {
      "name": "python3",
      "display_name": "Python 3"
    },
    "language_info": {
      "name": "python"
    }
  },
  "cells": [
    {
      "cell_type": "markdown",
      "metadata": {
        "id": "view-in-github",
        "colab_type": "text"
      },
      "source": [
        "<a href=\"https://colab.research.google.com/github/Lucas-de-Man/NeuralNetworks/blob/main/neural.ipynb\" target=\"_parent\"><img src=\"https://colab.research.google.com/assets/colab-badge.svg\" alt=\"Open In Colab\"/></a>"
      ]
    },
    {
      "cell_type": "code",
      "source": [
        "from google.colab import drive\n",
        "\n",
        "drive.mount('/content/drive')"
      ],
      "metadata": {
        "colab": {
          "base_uri": "https://localhost:8080/"
        },
        "id": "LSWDRWsoltqh",
        "outputId": "aed755a6-2f15-493f-f46e-da863f1d38d8"
      },
      "execution_count": null,
      "outputs": [
        {
          "output_type": "stream",
          "name": "stdout",
          "text": [
            "Mounted at /content/drive\n"
          ]
        }
      ]
    },
    {
      "cell_type": "code",
      "execution_count": null,
      "metadata": {
        "id": "XE6sHvrkQQ35",
        "colab": {
          "base_uri": "https://localhost:8080/",
          "height": 130
        },
        "outputId": "de2e7bf0-5fc5-4c51-b294-d1bebe5c8fb8"
      },
      "outputs": [
        {
          "output_type": "error",
          "ename": "SyntaxError",
          "evalue": "ignored",
          "traceback": [
            "\u001b[0;36m  File \u001b[0;32m\"<ipython-input-2-582c02b0755b>\"\u001b[0;36m, line \u001b[0;32m6\u001b[0m\n\u001b[0;31m    drive.mount(‘/content/gdrive’)\u001b[0m\n\u001b[0m                ^\u001b[0m\n\u001b[0;31mSyntaxError\u001b[0m\u001b[0;31m:\u001b[0m invalid character '‘' (U+2018)\n"
          ]
        }
      ],
      "source": [
        "import random as r\n",
        "import os\n",
        "import cv2\n",
        "\n",
        "\n",
        "r.seed(1000)\n",
        "\n",
        "def read_data(dataFolderNum, one_in_num_train):\n",
        "    x_train = []\n",
        "    y_train = []\n",
        "    x_test = []\n",
        "    y_test = []\n",
        "    for i in range(dataFolderNum):\n",
        "        paths = [r'data' + str(i) + '\\\\notNotes', r'data' + str(i) + '\\\\notes']\n",
        "        sheet_path = r'data' + str(i) + '\\\\sheets'\n",
        "        mainFile = r'data' + str(i) + '\\sheets\\main.txt'\n",
        "        notes_path = r'data' + str(i) + '\\\\notes\\\\'\n",
        "        rest_path = r'data' + str(i) + '\\\\notNotes\\\\'\n",
        "        if not os.path.exists(sheet_path) or not os.path.isfile(mainFile):\n",
        "            continue\n",
        "        with open(mainFile, 'r') as f:\n",
        "            numSheets = int(f.readline())\n",
        "        for n in range(1 + numSheets):\n",
        "            path = notes_path + 'main' + str(n) + '.txt'\n",
        "            if os.path.exists(path) and os.path.isfile(path):\n",
        "                with open(path, 'r') as f:\n",
        "                    lines = f.readlines()\n",
        "                    numNotes = int(lines[0])\n",
        "                for j in range(numNotes):\n",
        "                    img = cv2.imread(notes_path + str(n) + '-' + str(j) + '.jpg', cv2.IMREAD_GRAYSCALE)\n",
        "                    x_train.append(img)\n",
        "                    y_train.append([1, 0])\n",
        "            path = rest_path + 'main' + str(n) + '.txt'\n",
        "            if os.path.exists(path) and os.path.isfile(path):\n",
        "                with open(path, 'r') as f:\n",
        "                    lines = f.readlines()\n",
        "                    numNotNotes = int(lines[0])\n",
        "                    for j in range(numNotNotes):\n",
        "                        img = cv2.imread(rest_path + str(n) + '-' + str(j) + '.jpg', cv2.IMREAD_GRAYSCALE)\n",
        "                        x_train.append(img)\n",
        "                        y_train.append([0, 1])\n",
        "    final = ([], [], [], [])  # x_train, y_train, x_test, y_test\n",
        "    while len(x_test) * (one_in_num_train - 1) < len(x_train):\n",
        "        index = r.randint(0, len(x_train) - 1)\n",
        "        x_test.append(x_train[index])\n",
        "        y_test.append(y_train[index])\n",
        "        x_train.pop(index)\n",
        "        y_train.pop(index)\n",
        "    while len(x_train) > 0:\n",
        "        index = r.randint(0, len(x_train) - 1)\n",
        "        final[0].append(cv2.resize(x_train[index] / 255, (60, 100)))\n",
        "        final[1].append(y_train[index])\n",
        "        x_train.pop(index)\n",
        "        y_train.pop(index)\n",
        "    while len(x_test) > 0:\n",
        "        index = r.randint(0, len(x_test) - 1)\n",
        "        final[2].append(cv2.resize(x_test[index] / 255, (60, 100)))\n",
        "        final[3].append(y_test[index])\n",
        "        x_test.pop(index)\n",
        "        y_test.pop(index)\n",
        "    return final\n",
        "\n",
        "\n",
        "#x_train, y_train, x_test, y_test = read_data(1, 3)\n",
        "#print(len(x_train), len(y_train), len(x_test), len(y_test))\n"
      ]
    },
    {
      "cell_type": "code",
      "source": [
        "from google.colab import drive\n",
        "drive.mount('/content/drive')"
      ],
      "metadata": {
        "colab": {
          "base_uri": "https://localhost:8080/"
        },
        "id": "38XCPChKVHdv",
        "outputId": "e36f47a3-ff2b-4d6e-999e-df990a0e7ae1"
      },
      "execution_count": 1,
      "outputs": [
        {
          "output_type": "stream",
          "name": "stdout",
          "text": [
            "Mounted at /content/drive\n"
          ]
        }
      ]
    }
  ]
}